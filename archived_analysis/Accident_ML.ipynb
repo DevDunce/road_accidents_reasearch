{
 "cells": [
  {
   "cell_type": "markdown",
   "metadata": {},
   "source": [
    "# Accident Data - Machine Learning Modelling"
   ]
  },
  {
   "cell_type": "code",
   "execution_count": 1,
   "metadata": {},
   "outputs": [],
   "source": [
    "# imports\n",
    "import numpy as np\n",
    "import pandas as pd\n",
    "import matplotlib.pyplot as plt\n",
    "import seaborn as sns\n",
    "import datetime\n",
    "import pickle\n",
    "plt.style.use(\"classic\")"
   ]
  },
  {
   "cell_type": "code",
   "execution_count": 2,
   "metadata": {},
   "outputs": [],
   "source": [
    "# import data from pkl file\n",
    "# load pickled data\n",
    "with open(\"./data/working_sets/new_acc_ml_dataset.pkl\", \"rb\") as f:\n",
    "    acc = pickle.load(f)\n"
   ]
  },
  {
   "cell_type": "code",
   "execution_count": 3,
   "metadata": {},
   "outputs": [
    {
     "name": "stdout",
     "output_type": "stream",
     "text": [
      "<class 'pandas.core.frame.DataFrame'>\n",
      "RangeIndex: 2178381 entries, 0 to 2178380\n",
      "Data columns (total 18 columns):\n",
      " #   Column                  Dtype   \n",
      "---  ------                  -----   \n",
      " 0   police_force            category\n",
      " 1   day                     category\n",
      " 2   road_type               category\n",
      " 3   proxy_severity          category\n",
      " 4   adj_long                float64 \n",
      " 5   adj_lat                 float64 \n",
      " 6   num_veh_group           category\n",
      " 7   num_cas_group           category\n",
      " 8   ons_code                category\n",
      " 9   single_carriageway      category\n",
      " 10  speed_limit_over_30mph  category\n",
      " 11  good_light              category\n",
      " 12  fine_weather            category\n",
      " 13  road_surface_okay       category\n",
      " 14  time_of_day             category\n",
      " 15  year                    category\n",
      " 16  month                   category\n",
      " 17  urban_area              category\n",
      "dtypes: category(16), float64(2)\n",
      "memory usage: 66.5 MB\n"
     ]
    }
   ],
   "source": [
    "acc.info()"
   ]
  },
  {
   "cell_type": "code",
   "execution_count": 4,
   "metadata": {},
   "outputs": [],
   "source": [
    "# get balanced random sample\n",
    "\n",
    "size = 10000        # sample size\n",
    "replace = True  # with replacement\n",
    "fn = lambda obj: obj.loc[np.random.choice(obj.index, size, replace),:]\n",
    "acc = acc.groupby('proxy_severity', as_index=False).apply(fn)\n",
    "acc.reset_index(drop=True, inplace=True) # reset index"
   ]
  },
  {
   "cell_type": "code",
   "execution_count": 5,
   "metadata": {},
   "outputs": [
    {
     "name": "stdout",
     "output_type": "stream",
     "text": [
      "<class 'pandas.core.frame.DataFrame'>\n",
      "RangeIndex: 30000 entries, 0 to 29999\n",
      "Data columns (total 18 columns):\n",
      " #   Column                  Non-Null Count  Dtype   \n",
      "---  ------                  --------------  -----   \n",
      " 0   police_force            30000 non-null  category\n",
      " 1   day                     30000 non-null  category\n",
      " 2   road_type               30000 non-null  category\n",
      " 3   proxy_severity          30000 non-null  category\n",
      " 4   adj_long                30000 non-null  float64 \n",
      " 5   adj_lat                 30000 non-null  float64 \n",
      " 6   num_veh_group           30000 non-null  category\n",
      " 7   num_cas_group           30000 non-null  category\n",
      " 8   ons_code                30000 non-null  category\n",
      " 9   single_carriageway      30000 non-null  category\n",
      " 10  speed_limit_over_30mph  30000 non-null  category\n",
      " 11  good_light              30000 non-null  category\n",
      " 12  fine_weather            30000 non-null  category\n",
      " 13  road_surface_okay       30000 non-null  category\n",
      " 14  time_of_day             30000 non-null  category\n",
      " 15  year                    30000 non-null  category\n",
      " 16  month                   30000 non-null  category\n",
      " 17  urban_area              30000 non-null  category\n",
      "dtypes: category(16), float64(2)\n",
      "memory usage: 943.6 KB\n"
     ]
    }
   ],
   "source": [
    "acc.info()"
   ]
  },
  {
   "cell_type": "code",
   "execution_count": null,
   "metadata": {},
   "outputs": [],
   "source": []
  },
  {
   "cell_type": "code",
   "execution_count": 6,
   "metadata": {},
   "outputs": [],
   "source": [
    "# reduce size to 2019 only\n",
    "\n",
    "# acc = acc[acc[\"year\"].astype(int) > 2015]\n",
    "# acc.reset_index(drop=True, inplace=True)"
   ]
  },
  {
   "cell_type": "code",
   "execution_count": 7,
   "metadata": {},
   "outputs": [],
   "source": [
    "# acc.proxy_severity.value_counts()"
   ]
  },
  {
   "cell_type": "code",
   "execution_count": 8,
   "metadata": {},
   "outputs": [
    {
     "data": {
      "text/plain": [
       "RangeIndex(start=0, stop=30000, step=1)"
      ]
     },
     "execution_count": 8,
     "metadata": {},
     "output_type": "execute_result"
    }
   ],
   "source": [
    "acc.index"
   ]
  },
  {
   "cell_type": "code",
   "execution_count": 9,
   "metadata": {
    "scrolled": true
   },
   "outputs": [
    {
     "name": "stdout",
     "output_type": "stream",
     "text": [
      "<class 'pandas.core.frame.DataFrame'>\n",
      "RangeIndex: 30000 entries, 0 to 29999\n",
      "Data columns (total 18 columns):\n",
      " #   Column                  Non-Null Count  Dtype   \n",
      "---  ------                  --------------  -----   \n",
      " 0   police_force            30000 non-null  category\n",
      " 1   day                     30000 non-null  category\n",
      " 2   road_type               30000 non-null  category\n",
      " 3   proxy_severity          30000 non-null  category\n",
      " 4   adj_long                30000 non-null  float64 \n",
      " 5   adj_lat                 30000 non-null  float64 \n",
      " 6   num_veh_group           30000 non-null  category\n",
      " 7   num_cas_group           30000 non-null  category\n",
      " 8   ons_code                30000 non-null  category\n",
      " 9   single_carriageway      30000 non-null  category\n",
      " 10  speed_limit_over_30mph  30000 non-null  category\n",
      " 11  good_light              30000 non-null  category\n",
      " 12  fine_weather            30000 non-null  category\n",
      " 13  road_surface_okay       30000 non-null  category\n",
      " 14  time_of_day             30000 non-null  category\n",
      " 15  year                    30000 non-null  category\n",
      " 16  month                   30000 non-null  category\n",
      " 17  urban_area              30000 non-null  category\n",
      "dtypes: category(16), float64(2)\n",
      "memory usage: 943.6 KB\n"
     ]
    }
   ],
   "source": [
    "acc.info()"
   ]
  },
  {
   "cell_type": "code",
   "execution_count": 10,
   "metadata": {},
   "outputs": [],
   "source": [
    "# get rid of year and month etc.\n",
    "acc = acc.drop([\"year\",\"month\"], axis=1)"
   ]
  },
  {
   "cell_type": "code",
   "execution_count": 11,
   "metadata": {},
   "outputs": [
    {
     "name": "stdout",
     "output_type": "stream",
     "text": [
      "<class 'pandas.core.frame.DataFrame'>\n",
      "RangeIndex: 30000 entries, 0 to 29999\n",
      "Data columns (total 16 columns):\n",
      " #   Column                  Non-Null Count  Dtype   \n",
      "---  ------                  --------------  -----   \n",
      " 0   police_force            30000 non-null  category\n",
      " 1   day                     30000 non-null  category\n",
      " 2   road_type               30000 non-null  category\n",
      " 3   proxy_severity          30000 non-null  category\n",
      " 4   adj_long                30000 non-null  float64 \n",
      " 5   adj_lat                 30000 non-null  float64 \n",
      " 6   num_veh_group           30000 non-null  category\n",
      " 7   num_cas_group           30000 non-null  category\n",
      " 8   ons_code                30000 non-null  category\n",
      " 9   single_carriageway      30000 non-null  category\n",
      " 10  speed_limit_over_30mph  30000 non-null  category\n",
      " 11  good_light              30000 non-null  category\n",
      " 12  fine_weather            30000 non-null  category\n",
      " 13  road_surface_okay       30000 non-null  category\n",
      " 14  time_of_day             30000 non-null  category\n",
      " 15  urban_area              30000 non-null  category\n",
      "dtypes: category(14), float64(2)\n",
      "memory usage: 883.8 KB\n"
     ]
    }
   ],
   "source": [
    "acc.info()"
   ]
  },
  {
   "cell_type": "code",
   "execution_count": null,
   "metadata": {},
   "outputs": [],
   "source": []
  },
  {
   "cell_type": "code",
   "execution_count": null,
   "metadata": {},
   "outputs": [],
   "source": []
  },
  {
   "cell_type": "markdown",
   "metadata": {},
   "source": [
    "### Encode Categorical Attributes\n",
    "\n",
    "- I will use SKLearn's One Hot Encoder for this\n",
    "- One Hot Encoder might struggle with some of categories with many values, but its use of a sparse matrix might help with this. (we will see)"
   ]
  },
  {
   "cell_type": "code",
   "execution_count": 12,
   "metadata": {},
   "outputs": [],
   "source": [
    "# instantiate one hot encoder\n",
    "from sklearn.preprocessing import OneHotEncoder\n",
    "encoder = OneHotEncoder()\n",
    "\n",
    "cat_cols = [\"num_veh_group\", \"num_cas_group\", \"ons_code\", \"time_of_day\"]"
   ]
  },
  {
   "cell_type": "code",
   "execution_count": 13,
   "metadata": {},
   "outputs": [],
   "source": [
    "# transform columns\n",
    "from sklearn.compose import ColumnTransformer\n",
    "\n",
    "cat_transf = ColumnTransformer([\n",
    "    (\"cat\", OneHotEncoder(), cat_cols),],\n",
    "    remainder = \"passthrough\")"
   ]
  },
  {
   "cell_type": "markdown",
   "metadata": {},
   "source": [
    "### Create Train and Test Sets"
   ]
  },
  {
   "cell_type": "code",
   "execution_count": 14,
   "metadata": {},
   "outputs": [],
   "source": [
    "from sklearn.model_selection import StratifiedShuffleSplit\n",
    "\n",
    "split = StratifiedShuffleSplit(n_splits = 1, test_size = 0.2, random_state = 1)\n",
    "\n",
    "for train_index, test_index in split.split(acc, acc[\"proxy_severity\"]):\n",
    "    train = acc.loc[train_index]\n",
    "    test = acc.loc[test_index]"
   ]
  },
  {
   "cell_type": "code",
   "execution_count": 15,
   "metadata": {},
   "outputs": [],
   "source": [
    "# predictors (X)\n",
    "X_train_set = train.drop(\"proxy_severity\", axis=1)\n",
    "X_test_set = test.drop(\"proxy_severity\", axis=1)\n",
    "\n",
    "X_train = cat_transf.fit_transform(X_train_set)\n",
    "X_test = cat_transf.fit_transform(X_test_set)\n",
    "\n",
    "# predicted\n",
    "y_train = train[\"proxy_severity\"].copy()\n",
    "y_test = test[\"proxy_severity\"].copy()"
   ]
  },
  {
   "cell_type": "markdown",
   "metadata": {},
   "source": [
    "# Train Model\n",
    "\n",
    "- decision tree selected as first model to train"
   ]
  },
  {
   "cell_type": "code",
   "execution_count": 16,
   "metadata": {},
   "outputs": [
    {
     "name": "stdout",
     "output_type": "stream",
     "text": [
      "Accuracy: 0.44216666666666665\n"
     ]
    }
   ],
   "source": [
    "# decision tree model\n",
    "from sklearn.tree import DecisionTreeClassifier\n",
    "from sklearn.model_selection import cross_val_score\n",
    "from sklearn import metrics\n",
    "\n",
    "dt_classifier = DecisionTreeClassifier(random_state = 2)\n",
    "dt_classifier.fit(X_train, y_train)\n",
    "\n",
    "# get score for model\n",
    "dt_predictions = dt_classifier.predict(X_test)\n",
    "print(\"Accuracy:\",metrics.accuracy_score(y_test, dt_predictions))"
   ]
  },
  {
   "cell_type": "code",
   "execution_count": 17,
   "metadata": {},
   "outputs": [
    {
     "data": {
      "text/plain": [
       "array([[869, 645, 486],\n",
       "       [659, 904, 437],\n",
       "       [590, 530, 880]], dtype=int64)"
      ]
     },
     "execution_count": 17,
     "metadata": {},
     "output_type": "execute_result"
    }
   ],
   "source": [
    "from sklearn.metrics import confusion_matrix\n",
    "from sklearn.metrics import plot_confusion_matrix\n",
    "confusion_matrix(y_test, dt_predictions)"
   ]
  },
  {
   "cell_type": "code",
   "execution_count": 18,
   "metadata": {},
   "outputs": [
    {
     "data": {
      "text/plain": [
       "<sklearn.metrics._plot.confusion_matrix.ConfusionMatrixDisplay at 0x1cbc4c46a90>"
      ]
     },
     "execution_count": 18,
     "metadata": {},
     "output_type": "execute_result"
    },
    {
     "data": {
      "image/png": "[encoded data removed]",
      "text/plain": [
       "<Figure size 640x480 with 2 Axes>"
      ]
     },
     "metadata": {},
     "output_type": "display_data"
    }
   ],
   "source": [
    "plot_confusion_matrix(dt_classifier, X_test, y_test)"
   ]
  },
  {
   "cell_type": "markdown",
   "metadata": {},
   "source": [
    "## Random Forest Classifier"
   ]
  },
  {
   "cell_type": "code",
   "execution_count": 19,
   "metadata": {},
   "outputs": [
    {
     "name": "stdout",
     "output_type": "stream",
     "text": [
      "48.03333333333333\n"
     ]
    }
   ],
   "source": [
    "# random forest\n",
    "from sklearn.ensemble import RandomForestClassifier\n",
    "rf_classifier = RandomForestClassifier(random_state = 1)\n",
    "rf_classifier.fit(X_train, y_train)\n",
    "\n",
    "# get score for model\n",
    "rf_predictions = rf_classifier.predict(X_test)\n",
    "rf_score = rf_classifier.score(X_test, y_test) * 100\n",
    "\n",
    "print(rf_score)"
   ]
  },
  {
   "cell_type": "code",
   "execution_count": 20,
   "metadata": {},
   "outputs": [
    {
     "name": "stdout",
     "output_type": "stream",
     "text": [
      "Accuracy: 0.48033333333333333\n"
     ]
    },
    {
     "data": {
      "text/plain": [
       "array([[ 833,  611,  556],\n",
       "       [ 581,  908,  511],\n",
       "       [ 391,  468, 1141]], dtype=int64)"
      ]
     },
     "execution_count": 20,
     "metadata": {},
     "output_type": "execute_result"
    }
   ],
   "source": [
    "print(\"Accuracy:\",metrics.accuracy_score(y_test, rf_predictions))\n",
    "confusion_matrix(y_test, rf_predictions)"
   ]
  },
  {
   "cell_type": "code",
   "execution_count": 21,
   "metadata": {},
   "outputs": [
    {
     "data": {
      "text/plain": [
       "<sklearn.metrics._plot.confusion_matrix.ConfusionMatrixDisplay at 0x1cbc57deb20>"
      ]
     },
     "execution_count": 21,
     "metadata": {},
     "output_type": "execute_result"
    },
    {
     "data": {
      "image/png": "[encoded data removed]",
      "text/plain": [
       "<Figure size 640x480 with 2 Axes>"
      ]
     },
     "metadata": {},
     "output_type": "display_data"
    }
   ],
   "source": [
    "plot_confusion_matrix(rf_classifier, X_test, y_test, values_format = '.0f')"
   ]
  },
  {
   "cell_type": "code",
   "execution_count": 22,
   "metadata": {},
   "outputs": [],
   "source": [
    "acc.to_csv(\"./data/FUCK.csv\", index=False)"
   ]
  },
  {
   "cell_type": "code",
   "execution_count": 23,
   "metadata": {},
   "outputs": [
    {
     "name": "stdout",
     "output_type": "stream",
     "text": [
      "<class 'pandas.core.frame.DataFrame'>\n",
      "RangeIndex: 30000 entries, 0 to 29999\n",
      "Data columns (total 16 columns):\n",
      " #   Column                  Non-Null Count  Dtype   \n",
      "---  ------                  --------------  -----   \n",
      " 0   police_force            30000 non-null  category\n",
      " 1   day                     30000 non-null  category\n",
      " 2   road_type               30000 non-null  category\n",
      " 3   proxy_severity          30000 non-null  category\n",
      " 4   adj_long                30000 non-null  float64 \n",
      " 5   adj_lat                 30000 non-null  float64 \n",
      " 6   num_veh_group           30000 non-null  category\n",
      " 7   num_cas_group           30000 non-null  category\n",
      " 8   ons_code                30000 non-null  category\n",
      " 9   single_carriageway      30000 non-null  category\n",
      " 10  speed_limit_over_30mph  30000 non-null  category\n",
      " 11  good_light              30000 non-null  category\n",
      " 12  fine_weather            30000 non-null  category\n",
      " 13  road_surface_okay       30000 non-null  category\n",
      " 14  time_of_day             30000 non-null  category\n",
      " 15  urban_area              30000 non-null  category\n",
      "dtypes: category(14), float64(2)\n",
      "memory usage: 883.8 KB\n"
     ]
    }
   ],
   "source": [
    "acc.info()"
   ]
  },
  {
   "cell_type": "code",
   "execution_count": null,
   "metadata": {},
   "outputs": [],
   "source": []
  },
  {
   "cell_type": "markdown",
   "metadata": {},
   "source": [
    "## Gaussian Naive Bayes"
   ]
  },
  {
   "cell_type": "code",
   "execution_count": 24,
   "metadata": {},
   "outputs": [
    {
     "name": "stdout",
     "output_type": "stream",
     "text": [
      "42.16666666666667\n"
     ]
    }
   ],
   "source": [
    "# Gaussian Naive Bayes\n",
    "from sklearn.naive_bayes import GaussianNB\n",
    "\n",
    "gnb_classifier = GaussianNB()\n",
    "gnb_classifier.fit(X_train, y_train)\n",
    "\n",
    "# get score for model\n",
    "gnb_predictions = gnb_classifier.predict(X_test)\n",
    "gnb_score = gnb_classifier.score(X_test, y_test) * 100\n",
    "\n",
    "print(gnb_score)"
   ]
  },
  {
   "cell_type": "code",
   "execution_count": 25,
   "metadata": {},
   "outputs": [
    {
     "name": "stdout",
     "output_type": "stream",
     "text": [
      "Accuracy: 0.4216666666666667\n"
     ]
    },
    {
     "data": {
      "text/plain": [
       "array([[1521,   58,  421],\n",
       "       [1448,   92,  460],\n",
       "       [1035,   48,  917]], dtype=int64)"
      ]
     },
     "execution_count": 25,
     "metadata": {},
     "output_type": "execute_result"
    }
   ],
   "source": [
    "# confusion matrix\n",
    "print(\"Accuracy:\",metrics.accuracy_score(y_test, gnb_predictions))\n",
    "confusion_matrix(y_test, gnb_predictions)"
   ]
  },
  {
   "cell_type": "code",
   "execution_count": 26,
   "metadata": {},
   "outputs": [
    {
     "data": {
      "text/plain": [
       "<sklearn.metrics._plot.confusion_matrix.ConfusionMatrixDisplay at 0x1cbc5822c10>"
      ]
     },
     "execution_count": 26,
     "metadata": {},
     "output_type": "execute_result"
    },
    {
     "data": {
      "image/png": "[encoded data removed]",
      "text/plain": [
       "<Figure size 640x480 with 2 Axes>"
      ]
     },
     "metadata": {},
     "output_type": "display_data"
    }
   ],
   "source": [
    "plot_confusion_matrix(gnb_classifier, X_test, y_test)"
   ]
  },
  {
   "cell_type": "markdown",
   "metadata": {},
   "source": [
    "## K Nearest Neighbours Classifier"
   ]
  },
  {
   "cell_type": "code",
   "execution_count": 27,
   "metadata": {},
   "outputs": [
    {
     "name": "stdout",
     "output_type": "stream",
     "text": [
      "43.88333333333333\n"
     ]
    }
   ],
   "source": [
    "# K Nearest Neighbour classifier\n",
    "from sklearn.neighbors import KNeighborsClassifier\n",
    "\n",
    "\n",
    "knn_classifier = KNeighborsClassifier(n_neighbors = 1)\n",
    "knn_classifier.fit(X_train, y_train)\n",
    "\n",
    "# get score for model\n",
    "knn_predictions = knn_classifier.predict(X_test)\n",
    "knn_score = knn_classifier.score(X_test, y_test) * 100\n",
    "\n",
    "print(knn_score)"
   ]
  },
  {
   "cell_type": "code",
   "execution_count": 28,
   "metadata": {},
   "outputs": [
    {
     "name": "stdout",
     "output_type": "stream",
     "text": [
      "Accuracy: 0.43883333333333335\n"
     ]
    },
    {
     "data": {
      "text/plain": [
       "array([[789, 655, 556],\n",
       "       [629, 846, 525],\n",
       "       [505, 497, 998]], dtype=int64)"
      ]
     },
     "execution_count": 28,
     "metadata": {},
     "output_type": "execute_result"
    }
   ],
   "source": [
    "# confusion matrix\n",
    "print(\"Accuracy:\",metrics.accuracy_score(y_test, knn_predictions))\n",
    "confusion_matrix(y_test, knn_predictions)"
   ]
  },
  {
   "cell_type": "code",
   "execution_count": 29,
   "metadata": {},
   "outputs": [
    {
     "data": {
      "text/plain": [
       "<sklearn.metrics._plot.confusion_matrix.ConfusionMatrixDisplay at 0x1cbc7c08f40>"
      ]
     },
     "execution_count": 29,
     "metadata": {},
     "output_type": "execute_result"
    },
    {
     "data": {
      "image/png": "[encoded data removed]",
      "text/plain": [
       "<Figure size 640x480 with 2 Axes>"
      ]
     },
     "metadata": {},
     "output_type": "display_data"
    }
   ],
   "source": [
    "plot_confusion_matrix(gnb_classifier, X_test, y_test)"
   ]
  },
  {
   "cell_type": "markdown",
   "metadata": {},
   "source": [
    "## Linear Discriminant Analysis"
   ]
  },
  {
   "cell_type": "code",
   "execution_count": 30,
   "metadata": {},
   "outputs": [
    {
     "name": "stdout",
     "output_type": "stream",
     "text": [
      "48.06666666666667\n"
     ]
    }
   ],
   "source": [
    "# Linear Descriminant Analysis\n",
    "from sklearn.discriminant_analysis  import LinearDiscriminantAnalysis\n",
    "\n",
    "\n",
    "lda_classifier = LinearDiscriminantAnalysis()\n",
    "lda_classifier.fit(X_train, y_train)\n",
    "\n",
    "# get score for model\n",
    "lda_predictions = lda_classifier.predict(X_test)\n",
    "lda_score = lda_classifier.score(X_test, y_test) * 100\n",
    "\n",
    "print(lda_score)"
   ]
  },
  {
   "cell_type": "code",
   "execution_count": 31,
   "metadata": {},
   "outputs": [
    {
     "name": "stdout",
     "output_type": "stream",
     "text": [
      "Accuracy: 0.4806666666666667\n"
     ]
    },
    {
     "data": {
      "text/plain": [
       "array([[ 805,  543,  652],\n",
       "       [ 601,  727,  672],\n",
       "       [ 251,  397, 1352]], dtype=int64)"
      ]
     },
     "execution_count": 31,
     "metadata": {},
     "output_type": "execute_result"
    }
   ],
   "source": [
    "# confusion matrix\n",
    "print(\"Accuracy:\",metrics.accuracy_score(y_test, lda_predictions))\n",
    "confusion_matrix(y_test, lda_predictions)"
   ]
  },
  {
   "cell_type": "code",
   "execution_count": 32,
   "metadata": {},
   "outputs": [
    {
     "data": {
      "text/plain": [
       "<sklearn.metrics._plot.confusion_matrix.ConfusionMatrixDisplay at 0x1cbc59893d0>"
      ]
     },
     "execution_count": 32,
     "metadata": {},
     "output_type": "execute_result"
    },
    {
     "data": {
      "image/png": "[encoded data removed]",
      "text/plain": [
       "<Figure size 640x480 with 2 Axes>"
      ]
     },
     "metadata": {},
     "output_type": "display_data"
    }
   ],
   "source": [
    "plot_confusion_matrix(lda_classifier, X_test, y_test, values_format='.0f')"
   ]
  },
  {
   "cell_type": "markdown",
   "metadata": {},
   "source": [
    "## Neural Network MLP Classifier"
   ]
  },
  {
   "cell_type": "code",
   "execution_count": 33,
   "metadata": {},
   "outputs": [
    {
     "name": "stdout",
     "output_type": "stream",
     "text": [
      "47.349999999999994\n"
     ]
    },
    {
     "name": "stderr",
     "output_type": "stream",
     "text": [
      "C:\\Users\\alanm\\OneDrive - National College of Ireland\\Final Year\\Software Project\\Project\\projenv\\lib\\site-packages\\sklearn\\neural_network\\_multilayer_perceptron.py:582: ConvergenceWarning: Stochastic Optimizer: Maximum iterations (50) reached and the optimization hasn't converged yet.\n",
      "  warnings.warn(\n"
     ]
    }
   ],
   "source": [
    "# Linear Descriminant Analysis\n",
    "from sklearn.neural_network  import MLPClassifier\n",
    "\n",
    "\n",
    "mlp_classifier = MLPClassifier(random_state=1, max_iter=50)\n",
    "mlp_classifier.fit(X_train, y_train)\n",
    "\n",
    "# get score for model\n",
    "mlp_predictions = mlp_classifier.predict(X_test)\n",
    "mlp_score = mlp_classifier.score(X_test, y_test) * 100\n",
    "\n",
    "print(mlp_score)"
   ]
  },
  {
   "cell_type": "code",
   "execution_count": 34,
   "metadata": {},
   "outputs": [
    {
     "name": "stdout",
     "output_type": "stream",
     "text": [
      "Accuracy: 0.4735\n"
     ]
    },
    {
     "data": {
      "text/plain": [
       "array([[ 918,  107,  975],\n",
       "       [ 781,  210, 1009],\n",
       "       [ 217,   70, 1713]], dtype=int64)"
      ]
     },
     "execution_count": 34,
     "metadata": {},
     "output_type": "execute_result"
    }
   ],
   "source": [
    "# confusion matrix\n",
    "print(\"Accuracy:\",metrics.accuracy_score(y_test, mlp_predictions))\n",
    "confusion_matrix(y_test, mlp_predictions)"
   ]
  },
  {
   "cell_type": "code",
   "execution_count": 35,
   "metadata": {},
   "outputs": [
    {
     "data": {
      "text/plain": [
       "<sklearn.metrics._plot.confusion_matrix.ConfusionMatrixDisplay at 0x1cbc5863370>"
      ]
     },
     "execution_count": 35,
     "metadata": {},
     "output_type": "execute_result"
    },
    {
     "data": {
      "image/png": "[encoded data removed]",
      "text/plain": [
       "<Figure size 640x480 with 2 Axes>"
      ]
     },
     "metadata": {},
     "output_type": "display_data"
    }
   ],
   "source": [
    "plot_confusion_matrix(mlp_classifier, X_test, y_test)"
   ]
  },
  {
   "cell_type": "markdown",
   "metadata": {},
   "source": [
    "## Support Vector Machine (SVM)"
   ]
  },
  {
   "cell_type": "code",
   "execution_count": 36,
   "metadata": {},
   "outputs": [],
   "source": [
    "# # SVM classifier\n",
    "# from sklearn.pipeline import make_pipeline\n",
    "# from sklearn.svm import SVC\n",
    "# svm_classifier = SVC(random_state=1)\n",
    "\n",
    "# svm_classifier.fit(X_train, y_train)\n",
    "\n",
    "# # get score for model\n",
    "# svm_predictions = svm_classifier.predict(X_test)\n",
    "# svm_score = svm_classifier.score(X_test, y_test) * 100\n",
    "\n",
    "# print(svm_score)"
   ]
  }
 ],
 "metadata": {
  "kernelspec": {
   "display_name": "projenv",
   "language": "python",
   "name": "projenv"
  },
  "language_info": {
   "codemirror_mode": {
    "name": "ipython",
    "version": 3
   },
   "file_extension": ".py",
   "mimetype": "text/x-python",
   "name": "python",
   "nbconvert_exporter": "python",
   "pygments_lexer": "ipython3",
   "version": "3.8.3"
  }
 },
 "nbformat": 4,
 "nbformat_minor": 4
}
